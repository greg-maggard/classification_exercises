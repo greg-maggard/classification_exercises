{
 "cells": [
  {
   "cell_type": "markdown",
   "id": "b90339e5",
   "metadata": {},
   "source": [
    "# The Churning Ring of Fire"
   ]
  },
  {
   "cell_type": "code",
   "execution_count": 1,
   "id": "e5947c4a",
   "metadata": {},
   "outputs": [],
   "source": [
    "#Importing Functions and Libraries\n",
    "\n",
    "import warnings\n",
    "warnings.filterwarnings(\"ignore\")\n",
    "\n",
    "import pandas as pd\n",
    "import numpy as np\n",
    "import matplotlib.pyplot as plt\n",
    "import seaborn as sns\n",
    "sns.set_palette('nipy_spectral')\n",
    "from scipy import stats\n",
    "from sklearn.model_selection import train_test_split\n",
    "from sklearn.tree import DecisionTreeClassifier, plot_tree\n",
    "from sklearn.metrics import classification_report\n",
    "from sklearn.metrics import confusion_matrix\n",
    "from sklearn.metrics import precision_recall_fscore_support\n",
    "from sklearn.metrics import accuracy_score\n",
    "from sklearn.ensemble import RandomForestClassifier\n",
    "from sklearn.neighbors import KNeighborsClassifier\n",
    "from sklearn.linear_model import LogisticRegression\n",
    "import pydataset as data\n",
    "\n",
    "from acquire import get_telco_data\n",
    "from prepare import clean_telco_data, prep_telco_data\n",
    "\n",
    "from env import get_db_url\n",
    "\n",
    "α = .05"
   ]
  },
  {
   "cell_type": "markdown",
   "id": "d01636b6",
   "metadata": {},
   "source": [
    "# What's the Plan, Stan?"
   ]
  },
  {
   "cell_type": "markdown",
   "id": "47f81ca0",
   "metadata": {},
   "source": [
    "- ReadMe can be found here (add link), containing a data dictionary, project goals, and some initial hypotheses. about drivers of customer churn. \n",
    "- Acquire data via pre-written scripts to pull from Codeup's database.\n",
    "- Prepare data via pre-written scripts for EDA and modeling.\n",
    "- Establish two hypotheses and their corresponding null hypotheses, run tests to determine whether we can reject those nulls. Document finding for reference.\n",
    "- Establish and document a baseline accuracy to which we can compare our eventual models.\n",
    "- Train classification models.\n",
    "- Evaluate models on train and test samples. \n",
    "- Evaluate best model on test sample.\n",
    "- Create CSV file containing customer ID, our model's prediction of whether they will churn, and the expected probability that will be the case. \n",
    "- Document conclusios, key insights, and recommendations."
   ]
  },
  {
   "cell_type": "markdown",
   "id": "a3ab0fd4",
   "metadata": {},
   "source": [
    "# The Gregxecutive Summary:"
   ]
  },
  {
   "cell_type": "markdown",
   "id": "86493f31",
   "metadata": {},
   "source": [
    "- Of the 4 types of models I ran (Decision Tree, Random Forest, K Nearest Neighbors, and Logistic Regression), the Random Forest performed best, with an ultimate test accuracy of ~ 82%.\n",
    "- This model outperforms the baseline prediction by ~ 9%.\n",
    "- Given more time in the future, I would like to run some multivariate analysis to control for certain features in order to determine which relationships are truly causal in nature. "
   ]
  },
  {
   "cell_type": "markdown",
   "id": "1274bf3b",
   "metadata": {},
   "source": [
    "# Acquiring and Preparing the Data:"
   ]
  },
  {
   "cell_type": "code",
   "execution_count": 2,
   "id": "c5233c4e",
   "metadata": {},
   "outputs": [
    {
     "data": {
      "text/html": [
       "<div>\n",
       "<style scoped>\n",
       "    .dataframe tbody tr th:only-of-type {\n",
       "        vertical-align: middle;\n",
       "    }\n",
       "\n",
       "    .dataframe tbody tr th {\n",
       "        vertical-align: top;\n",
       "    }\n",
       "\n",
       "    .dataframe thead th {\n",
       "        text-align: right;\n",
       "    }\n",
       "</style>\n",
       "<table border=\"1\" class=\"dataframe\">\n",
       "  <thead>\n",
       "    <tr style=\"text-align: right;\">\n",
       "      <th></th>\n",
       "      <th>customer_id</th>\n",
       "      <th>gender</th>\n",
       "      <th>senior_citizen</th>\n",
       "      <th>partner</th>\n",
       "      <th>dependents</th>\n",
       "      <th>tenure</th>\n",
       "      <th>phone_service</th>\n",
       "      <th>multiple_lines</th>\n",
       "      <th>online_security</th>\n",
       "      <th>online_backup</th>\n",
       "      <th>...</th>\n",
       "      <th>streaming_movies_No internet service</th>\n",
       "      <th>streaming_movies_Yes</th>\n",
       "      <th>paperless_billing_Yes</th>\n",
       "      <th>contract_type_One year</th>\n",
       "      <th>contract_type_Two year</th>\n",
       "      <th>payment_type_Credit card (automatic)</th>\n",
       "      <th>payment_type_Electronic check</th>\n",
       "      <th>payment_type_Mailed check</th>\n",
       "      <th>internet_service_type_Fiber optic</th>\n",
       "      <th>internet_service_type_None</th>\n",
       "    </tr>\n",
       "  </thead>\n",
       "  <tbody>\n",
       "    <tr>\n",
       "      <th>3270</th>\n",
       "      <td>4673-KKSLS</td>\n",
       "      <td>Female</td>\n",
       "      <td>No</td>\n",
       "      <td>No</td>\n",
       "      <td>No</td>\n",
       "      <td>31</td>\n",
       "      <td>Yes</td>\n",
       "      <td>No</td>\n",
       "      <td>Yes</td>\n",
       "      <td>No</td>\n",
       "      <td>...</td>\n",
       "      <td>0</td>\n",
       "      <td>0</td>\n",
       "      <td>0</td>\n",
       "      <td>0</td>\n",
       "      <td>0</td>\n",
       "      <td>0</td>\n",
       "      <td>1</td>\n",
       "      <td>0</td>\n",
       "      <td>1</td>\n",
       "      <td>0</td>\n",
       "    </tr>\n",
       "    <tr>\n",
       "      <th>6084</th>\n",
       "      <td>8623-ULFNQ</td>\n",
       "      <td>Female</td>\n",
       "      <td>Yes</td>\n",
       "      <td>No</td>\n",
       "      <td>No</td>\n",
       "      <td>26</td>\n",
       "      <td>Yes</td>\n",
       "      <td>Yes</td>\n",
       "      <td>No</td>\n",
       "      <td>No</td>\n",
       "      <td>...</td>\n",
       "      <td>0</td>\n",
       "      <td>1</td>\n",
       "      <td>1</td>\n",
       "      <td>0</td>\n",
       "      <td>0</td>\n",
       "      <td>0</td>\n",
       "      <td>1</td>\n",
       "      <td>0</td>\n",
       "      <td>0</td>\n",
       "      <td>0</td>\n",
       "    </tr>\n",
       "    <tr>\n",
       "      <th>4470</th>\n",
       "      <td>6303-KFWSL</td>\n",
       "      <td>Female</td>\n",
       "      <td>No</td>\n",
       "      <td>No</td>\n",
       "      <td>No</td>\n",
       "      <td>29</td>\n",
       "      <td>Yes</td>\n",
       "      <td>Yes</td>\n",
       "      <td>No</td>\n",
       "      <td>Yes</td>\n",
       "      <td>...</td>\n",
       "      <td>0</td>\n",
       "      <td>0</td>\n",
       "      <td>1</td>\n",
       "      <td>1</td>\n",
       "      <td>0</td>\n",
       "      <td>0</td>\n",
       "      <td>1</td>\n",
       "      <td>0</td>\n",
       "      <td>0</td>\n",
       "      <td>0</td>\n",
       "    </tr>\n",
       "    <tr>\n",
       "      <th>428</th>\n",
       "      <td>0623-IIHUG</td>\n",
       "      <td>Female</td>\n",
       "      <td>Yes</td>\n",
       "      <td>No</td>\n",
       "      <td>No</td>\n",
       "      <td>21</td>\n",
       "      <td>No</td>\n",
       "      <td>No phone service</td>\n",
       "      <td>Yes</td>\n",
       "      <td>No</td>\n",
       "      <td>...</td>\n",
       "      <td>0</td>\n",
       "      <td>0</td>\n",
       "      <td>1</td>\n",
       "      <td>0</td>\n",
       "      <td>0</td>\n",
       "      <td>0</td>\n",
       "      <td>1</td>\n",
       "      <td>0</td>\n",
       "      <td>0</td>\n",
       "      <td>0</td>\n",
       "    </tr>\n",
       "    <tr>\n",
       "      <th>3329</th>\n",
       "      <td>4742-DRORA</td>\n",
       "      <td>Male</td>\n",
       "      <td>No</td>\n",
       "      <td>Yes</td>\n",
       "      <td>Yes</td>\n",
       "      <td>60</td>\n",
       "      <td>Yes</td>\n",
       "      <td>Yes</td>\n",
       "      <td>Yes</td>\n",
       "      <td>No</td>\n",
       "      <td>...</td>\n",
       "      <td>0</td>\n",
       "      <td>0</td>\n",
       "      <td>1</td>\n",
       "      <td>1</td>\n",
       "      <td>0</td>\n",
       "      <td>0</td>\n",
       "      <td>0</td>\n",
       "      <td>0</td>\n",
       "      <td>1</td>\n",
       "      <td>0</td>\n",
       "    </tr>\n",
       "  </tbody>\n",
       "</table>\n",
       "<p>5 rows × 51 columns</p>\n",
       "</div>"
      ],
      "text/plain": [
       "     customer_id  gender senior_citizen partner dependents  tenure  \\\n",
       "3270  4673-KKSLS  Female             No      No         No      31   \n",
       "6084  8623-ULFNQ  Female            Yes      No         No      26   \n",
       "4470  6303-KFWSL  Female             No      No         No      29   \n",
       "428   0623-IIHUG  Female            Yes      No         No      21   \n",
       "3329  4742-DRORA    Male             No     Yes        Yes      60   \n",
       "\n",
       "     phone_service    multiple_lines online_security online_backup  ...  \\\n",
       "3270           Yes                No             Yes            No  ...   \n",
       "6084           Yes               Yes              No            No  ...   \n",
       "4470           Yes               Yes              No           Yes  ...   \n",
       "428             No  No phone service             Yes            No  ...   \n",
       "3329           Yes               Yes             Yes            No  ...   \n",
       "\n",
       "     streaming_movies_No internet service streaming_movies_Yes  \\\n",
       "3270                                    0                    0   \n",
       "6084                                    0                    1   \n",
       "4470                                    0                    0   \n",
       "428                                     0                    0   \n",
       "3329                                    0                    0   \n",
       "\n",
       "     paperless_billing_Yes contract_type_One year contract_type_Two year  \\\n",
       "3270                     0                      0                      0   \n",
       "6084                     1                      0                      0   \n",
       "4470                     1                      1                      0   \n",
       "428                      1                      0                      0   \n",
       "3329                     1                      1                      0   \n",
       "\n",
       "      payment_type_Credit card (automatic)  payment_type_Electronic check  \\\n",
       "3270                                     0                              1   \n",
       "6084                                     0                              1   \n",
       "4470                                     0                              1   \n",
       "428                                      0                              1   \n",
       "3329                                     0                              0   \n",
       "\n",
       "     payment_type_Mailed check  internet_service_type_Fiber optic  \\\n",
       "3270                         0                                  1   \n",
       "6084                         0                                  0   \n",
       "4470                         0                                  0   \n",
       "428                          0                                  0   \n",
       "3329                         0                                  1   \n",
       "\n",
       "     internet_service_type_None  \n",
       "3270                          0  \n",
       "6084                          0  \n",
       "4470                          0  \n",
       "428                           0  \n",
       "3329                          0  \n",
       "\n",
       "[5 rows x 51 columns]"
      ]
     },
     "execution_count": 2,
     "metadata": {},
     "output_type": "execute_result"
    }
   ],
   "source": [
    "# Acquiring Data:\n",
    "telco_df = get_telco_data()\n",
    "\n",
    "#Splitting Data in to Train, Validate, and Test Sets:\n",
    "train, validate, test = prep_telco_data(telco_df)\n",
    "train.head()"
   ]
  },
  {
   "cell_type": "code",
   "execution_count": 3,
   "id": "fb73f044",
   "metadata": {},
   "outputs": [],
   "source": [
    "#Creating train, validate, and test sets:\n",
    "#Creating X and y model-testing dataframes:\n",
    "X_train = train.drop(columns = ['customer_id', 'gender', 'senior_citizen', 'partner', 'dependents', 'phone_service', 'multiple_lines', 'online_security', 'online_backup', 'device_protection',\n",
    " 'tech_support', 'streaming_tv', 'streaming_movies', 'paperless_billing', 'monthly_charges', 'total_charges', 'churn', 'contract_type', 'payment_type', 'internet_service_type'])\n",
    "y_train = train.churn\n",
    "\n",
    "X_validate = validate.drop(columns = ['customer_id', 'gender', 'senior_citizen', 'partner', 'dependents', 'phone_service', 'multiple_lines', 'online_security', 'online_backup', 'device_protection',\n",
    " 'tech_support', 'streaming_tv', 'streaming_movies', 'paperless_billing', 'monthly_charges', 'total_charges', 'churn', 'contract_type', 'payment_type', 'internet_service_type'])\n",
    "y_validate = validate.churn\n",
    "\n",
    "X_test = test.drop(columns = ['customer_id', 'gender', 'senior_citizen', 'partner', 'dependents', 'phone_service', 'multiple_lines', 'online_security', 'online_backup', 'device_protection',\n",
    " 'tech_support', 'streaming_tv', 'streaming_movies', 'paperless_billing', 'monthly_charges', 'total_charges', 'churn', 'contract_type', 'payment_type', 'internet_service_type'])\n",
    "y_test = test.churn"
   ]
  },
  {
   "cell_type": "markdown",
   "id": "4015c214",
   "metadata": {},
   "source": [
    "## Acquire & Prepare Takeaways: "
   ]
  },
  {
   "cell_type": "markdown",
   "id": "663abd23",
   "metadata": {},
   "source": [
    "- There were 11 nulls to be removed (these customers have not completed a full billing cycle)\n",
    "- I dropped contract_type_id, payment_type_id, and internet_service_type_id, as they were replaced with dummy columns for modeling.\n",
    "- Split into train, validate, and test, stratifying on churn column."
   ]
  },
  {
   "cell_type": "markdown",
   "id": "7881e460",
   "metadata": {},
   "source": [
    "# Exploration:"
   ]
  },
  {
   "cell_type": "markdown",
   "id": "016c527b",
   "metadata": {},
   "source": [
    "### What Proportion of Customers Churned Last Month?"
   ]
  },
  {
   "cell_type": "code",
   "execution_count": 4,
   "id": "26434351",
   "metadata": {},
   "outputs": [
    {
     "data": {
      "text/plain": [
       "<AxesSubplot:title={'center':'How Many Customers Churned?'}, xlabel='churn', ylabel='Count'>"
      ]
     },
     "execution_count": 4,
     "metadata": {},
     "output_type": "execute_result"
    },
    {
     "data": {
      "image/png": "[encoded data removed]",
      "text/plain": [
       "<Figure size 432x288 with 1 Axes>"
      ]
     },
     "metadata": {
      "needs_background": "light"
     },
     "output_type": "display_data"
    }
   ],
   "source": [
    "plt.title(\"How Many Customers Churned?\")\n",
    "sns.histplot(train, x = 'churn', legend = True)"
   ]
  },
  {
   "cell_type": "code",
   "execution_count": 5,
   "id": "b5accfcc",
   "metadata": {},
   "outputs": [
    {
     "data": {
      "text/plain": [
       "26.57777777777778"
      ]
     },
     "execution_count": 5,
     "metadata": {},
     "output_type": "execute_result"
    }
   ],
   "source": [
    "(train[train.churn == 'Yes'].count().churn / train.churn.shape[0]) * 100"
   ]
  },
  {
   "cell_type": "markdown",
   "id": "a766706a",
   "metadata": {},
   "source": [
    "- Around 26.6% of customer churned this month."
   ]
  },
  {
   "cell_type": "markdown",
   "id": "1542cfd7",
   "metadata": {},
   "source": [
    "### What Is the Relationship Between Multiple Lines and Churn?"
   ]
  },
  {
   "cell_type": "code",
   "execution_count": 29,
   "id": "8669b6f5",
   "metadata": {},
   "outputs": [
    {
     "data": {
      "text/plain": [
       "[Text(0.5, 1.0, 'Are Customers With Multiple Lines More Likely to Churn? Spoiler: No!')]"
      ]
     },
     "execution_count": 29,
     "metadata": {},
     "output_type": "execute_result"
    },
    {
     "data": {
      "image/png": "[encoded data removed]",
      "text/plain": [
       "<Figure size 504x360 with 1 Axes>"
      ]
     },
     "metadata": {
      "needs_background": "light"
     },
     "output_type": "display_data"
    }
   ],
   "source": [
    "f = plt.figure(figsize=(7,5))\n",
    "ax = f.add_subplot(1,1,1)\n",
    "\n",
    "sns.histplot(data= train, ax=ax, stat=\"count\", multiple=\"stack\",\n",
    "             x=\"multiple_lines\", kde=False, hue=\"churn\",\n",
    "             element=\"bars\", legend=True).set(Title = \"Are Customers With Multiple Lines More Likely to Churn? Spoiler: No!\")"
   ]
  },
  {
   "cell_type": "markdown",
   "id": "d39b425b",
   "metadata": {},
   "source": [
    "#### Statistical Testing\n",
    "- $H_0$: Customers with multiple lines are equally or less likely to churn.\n",
    "- $H_a$: Customers with multiple lines are more likely to churn."
   ]
  },
  {
   "cell_type": "code",
   "execution_count": 7,
   "id": "e305cdd7",
   "metadata": {},
   "outputs": [
    {
     "data": {
      "text/plain": [
       "False"
      ]
     },
     "execution_count": 7,
     "metadata": {},
     "output_type": "execute_result"
    }
   ],
   "source": [
    "multiple_line_hypothesis = train[['multiple_lines', 'churn']]\n",
    "multiple_line_hypothesis['multiple_lines_boolean'] = (train['multiple_lines'] == 'Yes')\n",
    "#multiple_line_hypothesis\n",
    "\n",
    "multi_line_contingency_table = pd.crosstab(multiple_line_hypothesis.churn, multiple_line_hypothesis.multiple_lines_boolean)\n",
    "\n",
    "chi2, p, degf, expected = stats.chi2_contingency(multi_line_contingency_table)\n",
    "\n",
    "p < α"
   ]
  },
  {
   "cell_type": "markdown",
   "id": "76b45f2d",
   "metadata": {},
   "source": [
    "##### Conclusion:\n",
    "- We cannot reject the null that customers with multiple lines are equally or less likely to churn. \n",
    "\n",
    "##### Takeaway:\n",
    "- Current evidence does *not* indicate that customers with multiple lines are more likely to churn."
   ]
  },
  {
   "cell_type": "markdown",
   "id": "6d4a028f",
   "metadata": {},
   "source": [
    "### What is the Relationship Between Internet Service Type and Churn?"
   ]
  },
  {
   "cell_type": "code",
   "execution_count": 28,
   "id": "cf0620b9",
   "metadata": {},
   "outputs": [
    {
     "data": {
      "text/plain": [
       "[Text(0.5, 1.0, 'Are Customers With Fiber More Likely to Churn? Spoiler: Yes!')]"
      ]
     },
     "execution_count": 28,
     "metadata": {},
     "output_type": "execute_result"
    },
    {
     "data": {
      "image/png": "[encoded data removed]",
      "text/plain": [
       "<Figure size 504x360 with 1 Axes>"
      ]
     },
     "metadata": {
      "needs_background": "light"
     },
     "output_type": "display_data"
    }
   ],
   "source": [
    "f = plt.figure(figsize=(7,5))\n",
    "ax = f.add_subplot(1,1,1)\n",
    "\n",
    "sns.histplot(data= train, ax=ax, stat=\"count\", multiple=\"stack\",\n",
    "             x=\"internet_service_type\", kde=False, hue=\"churn\",\n",
    "             element=\"bars\", legend=True).set(Title = \"Are Customers With Fiber More Likely to Churn? Spoiler: Yes!\")"
   ]
  },
  {
   "cell_type": "markdown",
   "id": "9f03b543",
   "metadata": {},
   "source": [
    "#### Statistical Testing\n",
    "- $H_0$: Customers with fiber optic internet are equally or less likely to churn.\n",
    "- $H_a$: Customers with fiber optic internet are more likely to churn."
   ]
  },
  {
   "cell_type": "code",
   "execution_count": 9,
   "id": "f55d069e",
   "metadata": {},
   "outputs": [
    {
     "data": {
      "text/plain": [
       "True"
      ]
     },
     "execution_count": 9,
     "metadata": {},
     "output_type": "execute_result"
    }
   ],
   "source": [
    "fiber_optic_hypothesis = train[['internet_service_type', 'churn']]\n",
    "fiber_optic_hypothesis['fiber_optic'] = (train['internet_service_type'] == 'Fiber optic')\n",
    "#fiber_optic_hypothesis\n",
    "\n",
    "contingency_table = pd.crosstab(fiber_optic_hypothesis.churn, fiber_optic_hypothesis.fiber_optic)\n",
    "\n",
    "chi2, p, degf, expected = stats.chi2_contingency(contingency_table)\n",
    "\n",
    "p < α"
   ]
  },
  {
   "cell_type": "markdown",
   "id": "6628a4fd",
   "metadata": {},
   "source": [
    "##### Conclusion:\n",
    "- We can reject the null that customers with fiber optic internet are equally or less likely to churn. \n",
    "\n",
    "##### Takeaway:\n",
    "- Customers with fiber optic internet are more likely to churn."
   ]
  },
  {
   "cell_type": "markdown",
   "id": "230b8c36",
   "metadata": {},
   "source": [
    "# Best 3 Models:"
   ]
  },
  {
   "cell_type": "markdown",
   "id": "0e079e88",
   "metadata": {},
   "source": [
    "## Decision Tree:\n",
    "- max_depth = 4"
   ]
  },
  {
   "cell_type": "code",
   "execution_count": 10,
   "id": "b6f80e66",
   "metadata": {},
   "outputs": [],
   "source": [
    "#Creating the object and fitting the model:\n",
    "tree = DecisionTreeClassifier(max_depth=4, random_state=123)\n",
    "tree = tree.fit(X_train, y_train)"
   ]
  },
  {
   "cell_type": "markdown",
   "id": "c0adc32b",
   "metadata": {},
   "source": [
    "### In-Sample Accuracy is ~ 78.3%"
   ]
  },
  {
   "cell_type": "code",
   "execution_count": 11,
   "id": "08fc74d4",
   "metadata": {},
   "outputs": [
    {
     "data": {
      "text/plain": [
       "0.7828888888888889"
      ]
     },
     "execution_count": 11,
     "metadata": {},
     "output_type": "execute_result"
    }
   ],
   "source": [
    "#Performance on In-Sample Data:\n",
    "dt_in_sample_accuracy = tree.score(X_train, y_train)\n",
    "dt_in_sample_accuracy"
   ]
  },
  {
   "cell_type": "markdown",
   "id": "5f231ff3",
   "metadata": {},
   "source": [
    "### Out-of-Sample Accuracy is ~ 80.5%"
   ]
  },
  {
   "cell_type": "code",
   "execution_count": 12,
   "id": "1cc41f3a",
   "metadata": {},
   "outputs": [
    {
     "data": {
      "text/plain": [
       "0.8053333333333333"
      ]
     },
     "execution_count": 12,
     "metadata": {},
     "output_type": "execute_result"
    }
   ],
   "source": [
    "#Performance on Out-of-Sample Data:\n",
    "dt_out_of_sample_accuracy = tree.score(X_validate, y_validate)\n",
    "dt_out_of_sample_accuracy"
   ]
  },
  {
   "cell_type": "markdown",
   "id": "3c1a3371",
   "metadata": {},
   "source": [
    "## Random Forest:\n",
    "- min_samples_per_leaf = 10\n",
    "- max_depth = 10"
   ]
  },
  {
   "cell_type": "code",
   "execution_count": 13,
   "id": "606bb4c8",
   "metadata": {},
   "outputs": [
    {
     "data": {
      "text/plain": [
       "RandomForestClassifier(max_depth=10, min_samples_leaf=10, random_state=123)"
      ]
     },
     "execution_count": 13,
     "metadata": {},
     "output_type": "execute_result"
    }
   ],
   "source": [
    "#Creating the object and fitting the model:\n",
    "rf = RandomForestClassifier(max_depth = 10, min_samples_leaf = 10, random_state = 123)\n",
    "rf.fit(X_train, y_train)"
   ]
  },
  {
   "cell_type": "markdown",
   "id": "6bcec8ed",
   "metadata": {},
   "source": [
    "### In-Sample Accuracy is ~ 81.4%"
   ]
  },
  {
   "cell_type": "code",
   "execution_count": 14,
   "id": "7ed32b00",
   "metadata": {},
   "outputs": [
    {
     "data": {
      "text/plain": [
       "0.8135555555555556"
      ]
     },
     "execution_count": 14,
     "metadata": {},
     "output_type": "execute_result"
    }
   ],
   "source": [
    "#Performance on In-Sample Data:\n",
    "rf_in_sample_accuracy = rf.score(X_train, y_train)\n",
    "rf_in_sample_accuracy"
   ]
  },
  {
   "cell_type": "markdown",
   "id": "aad8f348",
   "metadata": {},
   "source": [
    "### Out-of-Sample Accuracy is ~ 81.5%"
   ]
  },
  {
   "cell_type": "code",
   "execution_count": 15,
   "id": "ce5120c0",
   "metadata": {},
   "outputs": [
    {
     "data": {
      "text/plain": [
       "0.8151111111111111"
      ]
     },
     "execution_count": 15,
     "metadata": {},
     "output_type": "execute_result"
    }
   ],
   "source": [
    "#Performance on Out-of-Sample Data:\n",
    "rf_out_of_sample_accuracy = rf.score(X_validate, y_validate)\n",
    "rf_out_of_sample_accuracy"
   ]
  },
  {
   "cell_type": "markdown",
   "id": "6dc7ad0f",
   "metadata": {},
   "source": [
    "## K-Nearest Neighbors (KNN):\n",
    "- k = 18"
   ]
  },
  {
   "cell_type": "code",
   "execution_count": 16,
   "id": "46034735",
   "metadata": {},
   "outputs": [
    {
     "data": {
      "text/plain": [
       "KNeighborsClassifier(n_neighbors=18)"
      ]
     },
     "execution_count": 16,
     "metadata": {},
     "output_type": "execute_result"
    }
   ],
   "source": [
    "#Creating the model object and fitting the data:\n",
    "knn = KNeighborsClassifier(n_neighbors=18, weights='uniform')\n",
    "knn.fit(X_train, y_train)"
   ]
  },
  {
   "cell_type": "markdown",
   "id": "68f15f90",
   "metadata": {},
   "source": [
    "### In-Sample Accuracy is ~ 80.1%"
   ]
  },
  {
   "cell_type": "code",
   "execution_count": 17,
   "id": "f60b6ff8",
   "metadata": {},
   "outputs": [
    {
     "data": {
      "text/plain": [
       "0.8008888888888889"
      ]
     },
     "execution_count": 17,
     "metadata": {},
     "output_type": "execute_result"
    }
   ],
   "source": [
    "knn_in_sample_accuracy = knn.score(X_train, y_train)\n",
    "knn_in_sample_accuracy"
   ]
  },
  {
   "cell_type": "markdown",
   "id": "671468d1",
   "metadata": {},
   "source": [
    "### Out-of-Sample Accuracy is ~ 80.4%"
   ]
  },
  {
   "cell_type": "code",
   "execution_count": 18,
   "id": "00eb6dea",
   "metadata": {},
   "outputs": [
    {
     "data": {
      "text/plain": [
       "0.8035555555555556"
      ]
     },
     "execution_count": 18,
     "metadata": {},
     "output_type": "execute_result"
    }
   ],
   "source": [
    "knn_out_of_sample_accuracy = knn.score(X_validate, y_validate)\n",
    "knn_out_of_sample_accuracy"
   ]
  },
  {
   "cell_type": "markdown",
   "id": "52561255",
   "metadata": {},
   "source": [
    "# Testing With the Best Model:\n",
    "- The best model appeared to be the Random Forest model, we'll use that on our test data"
   ]
  },
  {
   "cell_type": "markdown",
   "id": "70be3783",
   "metadata": {},
   "source": [
    "## Test Accuracy is ~ 82.0%"
   ]
  },
  {
   "cell_type": "code",
   "execution_count": 19,
   "id": "58b04889",
   "metadata": {},
   "outputs": [
    {
     "data": {
      "text/plain": [
       "0.8194740582800284"
      ]
     },
     "execution_count": 19,
     "metadata": {},
     "output_type": "execute_result"
    }
   ],
   "source": [
    "rf_test_sample_accuracy = rf.score(X_test, y_test)\n",
    "rf_test_sample_accuracy"
   ]
  },
  {
   "cell_type": "markdown",
   "id": "a6d13445",
   "metadata": {},
   "source": [
    "## Visualizing Model Performance Relative to Differing Hyperparameters:"
   ]
  },
  {
   "cell_type": "code",
   "execution_count": 21,
   "id": "bee7b0df",
   "metadata": {},
   "outputs": [],
   "source": [
    "# Writing a loop to visualize best model's performance in relation to different hyper parameters:\n",
    "metrics = []\n",
    "max_depth = 20\n",
    "\n",
    "for i in range(2, max_depth):\n",
    "    # Make the model\n",
    "    depth = max_depth - i\n",
    "    n_samples = i\n",
    "    forest = RandomForestClassifier(max_depth=depth, min_samples_leaf=n_samples, random_state=123)\n",
    "\n",
    "    # Fit the model (on train and only train)\n",
    "    forest = forest.fit(X_train, y_train)\n",
    "\n",
    "    # Evaluate model's performance:\n",
    "    in_sample_accuracy = forest.score(X_train, y_train)\n",
    "    \n",
    "    out_of_sample_accuracy = forest.score(X_validate, y_validate)\n",
    "\n",
    "    output = {\n",
    "        \"min_samples_per_leaf\": n_samples,\n",
    "        \"max_depth\": depth,\n",
    "        \"train_accuracy\": in_sample_accuracy,\n",
    "        \"validate_accuracy\": out_of_sample_accuracy\n",
    "    }\n",
    "    \n",
    "    metrics.append(output)\n",
    "    \n",
    "df = pd.DataFrame(metrics)\n",
    "df[\"difference\"] = df.train_accuracy - df.validate_accuracy"
   ]
  },
  {
   "cell_type": "code",
   "execution_count": 22,
   "id": "975cd2d0",
   "metadata": {},
   "outputs": [
    {
     "data": {
      "text/plain": [
       "<matplotlib.collections.LineCollection at 0x7f9738617e20>"
      ]
     },
     "execution_count": 22,
     "metadata": {},
     "output_type": "execute_result"
    },
    {
     "data": {
      "image/png": "[encoded data removed]",
      "text/plain": [
       "<Figure size 1152x648 with 1 Axes>"
      ]
     },
     "metadata": {
      "needs_background": "light"
     },
     "output_type": "display_data"
    }
   ],
   "source": [
    "df.set_index('max_depth')[['train_accuracy', 'validate_accuracy','difference']].plot(figsize = (16,9))\n",
    "plt.ylabel('Accuracy')\n",
    "plt.xticks(np.arange(0,21,1))\n",
    "plt.grid()\n",
    "plt.vlines(x = 10, ymin = 0, ymax = 1, colors = 'r', linestyles = 'solid')"
   ]
  },
  {
   "cell_type": "markdown",
   "id": "55f3e405",
   "metadata": {},
   "source": [
    "#### Takeaway:\n",
    "- This graph shows the point at which the train and validate accuracies have the smallest difference, but with the highest accuracy. This is how a model with a max_depth of 10 came to be selected."
   ]
  },
  {
   "cell_type": "markdown",
   "id": "3d7d95bc",
   "metadata": {},
   "source": [
    "# Sending the predictions to a CSV:"
   ]
  },
  {
   "cell_type": "code",
   "execution_count": 27,
   "id": "13a62099",
   "metadata": {},
   "outputs": [],
   "source": [
    "y_predictions = rf.predict(X_test)\n",
    "y_proba = rf.predict_proba(X_test)\n",
    "\n",
    "#Creating empty DataFrame:\n",
    "predictions = pd.DataFrame()\n",
    "#Creating customer_id column:\n",
    "predictions['customer_id'] = test.customer_id\n",
    "#Creating prediction column:\n",
    "predictions['prediction'] = y_predictions\n",
    "#Creating probability column:\n",
    "predictions['probability'] = y_proba[:,1]\n",
    "\n",
    "predictions.to_csv(\"predictions.csv\")"
   ]
  }
 ],
 "metadata": {
  "kernelspec": {
   "display_name": "Python 3 (ipykernel)",
   "language": "python",
   "name": "python3"
  },
  "language_info": {
   "codemirror_mode": {
    "name": "ipython",
    "version": 3
   },
   "file_extension": ".py",
   "mimetype": "text/x-python",
   "name": "python",
   "nbconvert_exporter": "python",
   "pygments_lexer": "ipython3",
   "version": "3.9.7"
  }
 },
 "nbformat": 4,
 "nbformat_minor": 5
}
