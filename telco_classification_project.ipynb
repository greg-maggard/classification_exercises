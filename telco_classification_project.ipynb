{
 "cells": [
  {
   "cell_type": "code",
   "execution_count": 27,
   "id": "950e8585",
   "metadata": {},
   "outputs": [],
   "source": [
    "import warnings\n",
    "warnings.filterwarnings(\"ignore\")\n",
    "\n",
    "import pandas as pd\n",
    "import numpy as np\n",
    "import matplotlib.pyplot as plt\n",
    "import seaborn as sns\n",
    "sns.set_palette('nipy_spectral')\n",
    "from scipy import stats\n",
    "from sklearn.model_selection import train_test_split\n",
    "import pydataset as data\n",
    "\n",
    "from acquire import get_telco_data\n",
    "from prepare import clean_telco_data, prep_telco_data\n",
    "\n",
    "from env import get_db_url\n",
    "\n",
    "α = .05"
   ]
  },
  {
   "cell_type": "code",
   "execution_count": 28,
   "id": "6d224dd6",
   "metadata": {},
   "outputs": [],
   "source": [
    "telco_df = get_telco_data()"
   ]
  },
  {
   "cell_type": "code",
   "execution_count": 29,
   "id": "08157035",
   "metadata": {},
   "outputs": [],
   "source": [
    "train, validate, test = prep_telco_data(telco_df)"
   ]
  },
  {
   "cell_type": "markdown",
   "id": "cf1de7c0",
   "metadata": {},
   "source": [
    "# Preliminary Notes:\n",
    "- There were 11 customers that had no values in 'total_charges,' indicating that they had not been with the company long enough to be charged. This also means that they have not been a customer long enough to have churned, so these rows have been dropped. "
   ]
  },
  {
   "cell_type": "code",
   "execution_count": null,
   "id": "1a35be4d",
   "metadata": {},
   "outputs": [],
   "source": [
    "# Key Takeaways:\n"
   ]
  },
  {
   "cell_type": "markdown",
   "id": "1f471315",
   "metadata": {},
   "source": [
    "# Univariate Exploration:"
   ]
  },
  {
   "cell_type": "code",
   "execution_count": 30,
   "id": "c915fcd7",
   "metadata": {},
   "outputs": [
    {
     "data": {
      "text/plain": [
       "Index(['customer_id', 'gender', 'senior_citizen', 'partner', 'dependents',\n",
       "       'tenure', 'phone_service', 'multiple_lines', 'online_security',\n",
       "       'online_backup', 'device_protection', 'tech_support', 'streaming_tv',\n",
       "       'streaming_movies', 'paperless_billing', 'monthly_charges',\n",
       "       'total_charges', 'churn', 'contract_type_id.1', 'contract_type',\n",
       "       'payment_type_id.1', 'payment_type', 'internet_service_type_id.1',\n",
       "       'internet_service_type', 'gender_Male', 'partner_Yes', 'dependents_Yes',\n",
       "       'phone_service_Yes', 'multiple_lines_No phone service',\n",
       "       'multiple_lines_Yes', 'online_security_No internet service',\n",
       "       'online_security_Yes', 'online_backup_No internet service',\n",
       "       'online_backup_Yes', 'device_protection_No internet service',\n",
       "       'device_protection_Yes', 'tech_support_No internet service',\n",
       "       'tech_support_Yes', 'streaming_tv_No internet service',\n",
       "       'streaming_tv_Yes', 'streaming_movies_No internet service',\n",
       "       'streaming_movies_Yes', 'paperless_billing_Yes',\n",
       "       'contract_type_One year', 'contract_type_Two year',\n",
       "       'payment_type_Credit card (automatic)', 'payment_type_Electronic check',\n",
       "       'payment_type_Mailed check', 'internet_service_type_Fiber optic',\n",
       "       'internet_service_type_None'],\n",
       "      dtype='object')"
      ]
     },
     "execution_count": 30,
     "metadata": {},
     "output_type": "execute_result"
    }
   ],
   "source": [
    "train.columns"
   ]
  },
  {
   "cell_type": "markdown",
   "id": "a1444b8f",
   "metadata": {},
   "source": [
    "## Number Churned:"
   ]
  },
  {
   "cell_type": "code",
   "execution_count": 35,
   "id": "e81ad193",
   "metadata": {},
   "outputs": [
    {
     "data": {
      "text/plain": [
       "<AxesSubplot:title={'center':'A Large Number of Customers Churned'}, xlabel='churn', ylabel='Count'>"
      ]
     },
     "execution_count": 35,
     "metadata": {},
     "output_type": "execute_result"
    },
    {
     "data": {
      "image/png": "[encoded data removed]",
      "text/plain": [
       "<Figure size 432x288 with 1 Axes>"
      ]
     },
     "metadata": {
      "needs_background": "light"
     },
     "output_type": "display_data"
    }
   ],
   "source": [
    "plt.title(\"A Large Number of Customers Churned\")\n",
    "sns.histplot(train, x = 'churn', legend = True)"
   ]
  },
  {
   "cell_type": "code",
   "execution_count": 17,
   "id": "e9246f25",
   "metadata": {},
   "outputs": [
    {
     "data": {
      "text/plain": [
       "26.57777777777778"
      ]
     },
     "execution_count": 17,
     "metadata": {},
     "output_type": "execute_result"
    }
   ],
   "source": [
    "# Percentage that Churned:\n",
    "\n",
    "(train[train.churn == 'Yes'].count().churn / train.churn.shape[0]) * 100\n",
    "\n",
    "#26.58% of customer churned this month."
   ]
  },
  {
   "cell_type": "markdown",
   "id": "e95ead0d",
   "metadata": {},
   "source": [
    "## Customer Count by Gender:"
   ]
  },
  {
   "cell_type": "code",
   "execution_count": 72,
   "id": "dd6dfe68",
   "metadata": {},
   "outputs": [
    {
     "data": {
      "text/plain": [
       "<AxesSubplot:title={'center':'Gender Appears to be Evenly Distributed'}, xlabel='gender', ylabel='Count'>"
      ]
     },
     "execution_count": 72,
     "metadata": {},
     "output_type": "execute_result"
    },
    {
     "data": {
      "image/png": "[encoded data removed]",
      "text/plain": [
       "<Figure size 432x288 with 1 Axes>"
      ]
     },
     "metadata": {
      "needs_background": "light"
     },
     "output_type": "display_data"
    }
   ],
   "source": [
    "plt.title(\"Gender Appears to be Fairly Evenly Distributed\")\n",
    "sns.histplot(train, x = 'gender', legend = True)"
   ]
  },
  {
   "cell_type": "code",
   "execution_count": 75,
   "id": "4c7d91b7",
   "metadata": {},
   "outputs": [
    {
     "data": {
      "text/plain": [
       "Male      2315\n",
       "Female    2185\n",
       "Name: gender, dtype: int64"
      ]
     },
     "execution_count": 75,
     "metadata": {},
     "output_type": "execute_result"
    }
   ],
   "source": [
    "train.gender.value_counts()\n",
    "\n",
    "#There are slightly more males than females."
   ]
  },
  {
   "cell_type": "code",
   "execution_count": null,
   "id": "5e094801",
   "metadata": {},
   "outputs": [],
   "source": []
  },
  {
   "cell_type": "markdown",
   "id": "d630a143",
   "metadata": {},
   "source": [
    "# Bivariate Analysis:"
   ]
  },
  {
   "cell_type": "code",
   "execution_count": 70,
   "id": "15d3d708",
   "metadata": {},
   "outputs": [
    {
     "data": {
      "text/plain": [
       "<AxesSubplot:title={'center':'A Large Number of Customers Churned'}, xlabel='churn', ylabel='Count'>"
      ]
     },
     "execution_count": 70,
     "metadata": {},
     "output_type": "execute_result"
    },
    {
     "data": {
      "image/png": "[encoded data removed]",
      "text/plain": [
       "<Figure size 432x288 with 1 Axes>"
      ]
     },
     "metadata": {
      "needs_background": "light"
     },
     "output_type": "display_data"
    }
   ],
   "source": [
    "plt.title(\"A Large Number of Customers Churned\")\n",
    "sns.histplot(train, x = 'churn', legend = True, hue = 'gender')\n",
    "\n",
    "# I need to come back and find a way to stack these. "
   ]
  },
  {
   "cell_type": "code",
   "execution_count": 73,
   "id": "35b84807",
   "metadata": {},
   "outputs": [
    {
     "data": {
      "text/plain": [
       "churn  gender\n",
       "No     Male      0.519976\n",
       "       Female    0.480024\n",
       "Yes    Female    0.500836\n",
       "       Male      0.499164\n",
       "Name: gender, dtype: float64"
      ]
     },
     "execution_count": 73,
     "metadata": {},
     "output_type": "execute_result"
    }
   ],
   "source": [
    "train.groupby('churn').gender.value_counts(normalize = True)\n",
    "\n",
    "#There doesn't appear to be any major relationship between gender and churn. "
   ]
  }
 ],
 "metadata": {
  "kernelspec": {
   "display_name": "Python 3 (ipykernel)",
   "language": "python",
   "name": "python3"
  },
  "language_info": {
   "codemirror_mode": {
    "name": "ipython",
    "version": 3
   },
   "file_extension": ".py",
   "mimetype": "text/x-python",
   "name": "python",
   "nbconvert_exporter": "python",
   "pygments_lexer": "ipython3",
   "version": "3.9.7"
  }
 },
 "nbformat": 4,
 "nbformat_minor": 5
}
